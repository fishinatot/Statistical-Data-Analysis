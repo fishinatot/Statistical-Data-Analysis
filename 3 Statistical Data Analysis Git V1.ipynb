{
 "cells": [
  {
   "cell_type": "markdown",
   "id": "1748986f",
   "metadata": {},
   "source": [
    "## Statistical data analysis project\n",
    "I work as an analyst for the telecom operator Megaline. The company offers its clients two prepaid plans, Surf and Ultimate.\n",
    "### Purpose \n",
    "The commercial department wants to know which of the plans brings in more revenue in order to adjust the advertising budget. \n",
    "\n",
    "let's jump right into it.\n",
    "importing libraries:"
   ]
  },
  {
   "cell_type": "code",
   "execution_count": 2,
   "id": "5a052ed6",
   "metadata": {
    "ExecuteTime": {
     "end_time": "2022-11-11T16:13:42.390405Z",
     "start_time": "2022-11-11T16:13:26.977448Z"
    }
   },
   "outputs": [],
   "source": [
    "import pandas as pd\n",
    "import numpy as np\n",
    "from functools import reduce\n",
    "import seaborn as sns\n",
    "import matplotlib.pyplot as plt\n",
    "import plotly.express as px\n",
    "from scipy import stats as st"
   ]
  },
  {
   "cell_type": "markdown",
   "id": "73b68248",
   "metadata": {},
   "source": [
    "saving the CSVs:"
   ]
  },
  {
   "cell_type": "code",
   "execution_count": 9,
   "id": "a2276343",
   "metadata": {
    "ExecuteTime": {
     "end_time": "2022-11-11T16:21:17.987760Z",
     "start_time": "2022-11-11T16:21:16.600768Z"
    },
    "scrolled": false
   },
   "outputs": [],
   "source": [
    "try:\n",
    "    df_calls = pd.read_csv('C:\\\\Users\\\\aviv\\\\Downloads\\\\practicum100\\\\megaline_calls.csv')\n",
    "    df_internet = pd.read_csv('C:\\\\Users\\\\aviv\\\\Downloads\\\\practicum100\\\\megaline_internet.csv')\n",
    "    df_messages = pd.read_csv('C:\\\\Users\\\\aviv\\Downloads\\\\practicum100\\\\megaline_messages.csv')\n",
    "    df_plans = pd.read_csv('C:\\\\Users\\\\aviv\\\\Downloads\\\\practicum100\\\\megaline_plans.csv')\n",
    "    df_users = pd.read_csv('C:\\\\Users\\\\aviv\\\\Downloads\\\\practicum100\\\\megaline_users.csv')\n",
    "    \n",
    "except:\n",
    "    df_calls = pd.read_csv('/datasets/megaline_calls.csv')\n",
    "    df_internet = pd.read_csv('/datasets/megaline_internet.csv')\n",
    "    df_messages = pd.read_csv('/datasets/megaline_messages.csv')\n",
    "    df_plans = pd.read_csv('/datasets/megaline_plans.csv')\n",
    "    df_users = pd.read_csv('/datasets/megaline_users.csv')\n",
    "\n",
    "    \n",
    "\n"
   ]
  },
  {
   "cell_type": "markdown",
   "id": "edfe83d2",
   "metadata": {},
   "source": [
    "# Preprocessing stage\n",
    "studying the dataframes for any errors:"
   ]
  },
  {
   "cell_type": "code",
   "execution_count": 10,
   "id": "32e1ddbc",
   "metadata": {
    "ExecuteTime": {
     "end_time": "2022-11-11T16:21:24.332144Z",
     "start_time": "2022-11-11T16:21:23.278896Z"
    },
    "scrolled": false
   },
   "outputs": [
    {
     "name": "stdout",
     "output_type": "stream",
     "text": [
      "<class 'pandas.core.frame.DataFrame'>\n",
      "RangeIndex: 137735 entries, 0 to 137734\n",
      "Data columns (total 4 columns):\n",
      " #   Column     Non-Null Count   Dtype  \n",
      "---  ------     --------------   -----  \n",
      " 0   id         137735 non-null  object \n",
      " 1   user_id    137735 non-null  int64  \n",
      " 2   call_date  137735 non-null  object \n",
      " 3   duration   137735 non-null  float64\n",
      "dtypes: float64(1), int64(1), object(2)\n",
      "memory usage: 4.2+ MB\n",
      "             user_id       duration\n",
      "count  137735.000000  137735.000000\n",
      "mean     1247.658046       6.745927\n",
      "std       139.416268       5.839241\n",
      "min      1000.000000       0.000000\n",
      "25%      1128.000000       1.290000\n",
      "50%      1247.000000       5.980000\n",
      "75%      1365.000000      10.690000\n",
      "max      1499.000000      37.600000 None\n",
      "             id   call_date\n",
      "count    137735      137735\n",
      "unique   137735         351\n",
      "top     1000_93  2018-12-27\n",
      "freq          1        1091\n"
     ]
    }
   ],
   "source": [
    "print(df_calls.describe(),\n",
    "      df_calls.info())\n",
    "print(    df_calls.describe(include=object))"
   ]
  },
  {
   "cell_type": "markdown",
   "id": "bd3c99e6",
   "metadata": {},
   "source": [
    "i see the dates are object-types here, will convert to datetime format."
   ]
  },
  {
   "cell_type": "code",
   "execution_count": 11,
   "id": "23936ccc",
   "metadata": {
    "ExecuteTime": {
     "end_time": "2022-11-11T16:21:24.740474Z",
     "start_time": "2022-11-11T16:21:24.344649Z"
    },
    "scrolled": true
   },
   "outputs": [
    {
     "name": "stdout",
     "output_type": "stream",
     "text": [
      "<class 'pandas.core.frame.DataFrame'>\n",
      "RangeIndex: 137735 entries, 0 to 137734\n",
      "Data columns (total 4 columns):\n",
      " #   Column     Non-Null Count   Dtype         \n",
      "---  ------     --------------   -----         \n",
      " 0   id         137735 non-null  object        \n",
      " 1   user_id    137735 non-null  int64         \n",
      " 2   call_date  137735 non-null  datetime64[ns]\n",
      " 3   duration   137735 non-null  float64       \n",
      "dtypes: datetime64[ns](1), float64(1), int64(1), object(1)\n",
      "memory usage: 4.2+ MB\n"
     ]
    }
   ],
   "source": [
    "df_calls['call_date']=pd.to_datetime(df_calls['call_date'], format='%Y-%m-%d')\n",
    "df_calls.info()"
   ]
  },
  {
   "cell_type": "markdown",
   "id": "fd377fe7",
   "metadata": {},
   "source": [
    "adding month column:"
   ]
  },
  {
   "cell_type": "code",
   "execution_count": 12,
   "id": "a01efc47",
   "metadata": {
    "ExecuteTime": {
     "end_time": "2022-11-11T16:21:24.989684Z",
     "start_time": "2022-11-11T16:21:24.756927Z"
    },
    "scrolled": false
   },
   "outputs": [
    {
     "data": {
      "text/plain": [
       "2018    137735\n",
       "Name: year, dtype: int64"
      ]
     },
     "execution_count": 12,
     "metadata": {},
     "output_type": "execute_result"
    }
   ],
   "source": [
    "df_calls['month'] = pd.DatetimeIndex(df_calls['call_date']).month\n",
    "#df_calls['month2'] = pd.DatetimeIndex(df_calls['call_date']).month\n",
    "df_calls['year'] = pd.DatetimeIndex(df_calls['call_date']).year\n",
    "df_calls['year'].value_counts()"
   ]
  },
  {
   "cell_type": "markdown",
   "id": "32f05df0",
   "metadata": {},
   "source": [
    "rounding up call duration"
   ]
  },
  {
   "cell_type": "code",
   "execution_count": 13,
   "id": "5f3f741f",
   "metadata": {
    "ExecuteTime": {
     "end_time": "2022-11-11T16:21:25.053078Z",
     "start_time": "2022-11-11T16:21:25.007199Z"
    }
   },
   "outputs": [],
   "source": [
    "df_calls['duration'] = df_calls['duration'].apply(np.ceil)"
   ]
  },
  {
   "cell_type": "code",
   "execution_count": 14,
   "id": "273e4041",
   "metadata": {
    "ExecuteTime": {
     "end_time": "2022-11-11T16:21:25.145807Z",
     "start_time": "2022-11-11T16:21:25.067034Z"
    }
   },
   "outputs": [
    {
     "data": {
      "text/plain": [
       "0     9.0\n",
       "1    14.0\n",
       "2    15.0\n",
       "3     6.0\n",
       "4     5.0\n",
       "Name: duration, dtype: float64"
      ]
     },
     "execution_count": 14,
     "metadata": {},
     "output_type": "execute_result"
    }
   ],
   "source": [
    "df_calls['duration'].head()"
   ]
  },
  {
   "cell_type": "code",
   "execution_count": 15,
   "id": "12fa85fb",
   "metadata": {
    "ExecuteTime": {
     "end_time": "2022-11-11T16:21:25.864013Z",
     "start_time": "2022-11-11T16:21:25.167751Z"
    },
    "scrolled": false
   },
   "outputs": [
    {
     "name": "stdout",
     "output_type": "stream",
     "text": [
      "<class 'pandas.core.frame.DataFrame'>\n",
      "RangeIndex: 104825 entries, 0 to 104824\n",
      "Data columns (total 4 columns):\n",
      " #   Column        Non-Null Count   Dtype  \n",
      "---  ------        --------------   -----  \n",
      " 0   id            104825 non-null  object \n",
      " 1   user_id       104825 non-null  int64  \n",
      " 2   session_date  104825 non-null  object \n",
      " 3   mb_used       104825 non-null  float64\n",
      "dtypes: float64(1), int64(1), object(2)\n",
      "memory usage: 3.2+ MB\n",
      "             user_id        mb_used\n",
      "count  104825.000000  104825.000000\n",
      "mean     1242.496361     366.713701\n",
      "std       142.053913     277.170542\n",
      "min      1000.000000       0.000000\n",
      "25%      1122.000000     136.080000\n",
      "50%      1236.000000     343.980000\n",
      "75%      1367.000000     554.610000\n",
      "max      1499.000000    1693.470000 None\n",
      "             id session_date\n",
      "count    104825       104825\n",
      "unique   104825          351\n",
      "top     1000_13   2018-12-24\n",
      "freq          1          851\n"
     ]
    }
   ],
   "source": [
    "print(df_internet.describe(),\n",
    "      df_internet.info())\n",
    "print(df_internet.describe(include=object))"
   ]
  },
  {
   "cell_type": "code",
   "execution_count": 16,
   "id": "32a5337b",
   "metadata": {
    "ExecuteTime": {
     "end_time": "2022-11-11T16:21:26.100475Z",
     "start_time": "2022-11-11T16:21:25.880962Z"
    }
   },
   "outputs": [
    {
     "name": "stdout",
     "output_type": "stream",
     "text": [
      "<class 'pandas.core.frame.DataFrame'>\n",
      "RangeIndex: 104825 entries, 0 to 104824\n",
      "Data columns (total 4 columns):\n",
      " #   Column        Non-Null Count   Dtype         \n",
      "---  ------        --------------   -----         \n",
      " 0   id            104825 non-null  object        \n",
      " 1   user_id       104825 non-null  int64         \n",
      " 2   session_date  104825 non-null  datetime64[ns]\n",
      " 3   mb_used       104825 non-null  float64       \n",
      "dtypes: datetime64[ns](1), float64(1), int64(1), object(1)\n",
      "memory usage: 3.2+ MB\n"
     ]
    }
   ],
   "source": [
    "df_internet['session_date']=pd.to_datetime(df_internet['session_date'], format='%Y-%m-%d')\n",
    "df_internet.info()"
   ]
  },
  {
   "cell_type": "code",
   "execution_count": 17,
   "id": "cb4be73d",
   "metadata": {
    "ExecuteTime": {
     "end_time": "2022-11-11T16:21:26.288925Z",
     "start_time": "2022-11-11T16:21:26.110403Z"
    }
   },
   "outputs": [
    {
     "data": {
      "text/plain": [
       "2018    104825\n",
       "Name: year, dtype: int64"
      ]
     },
     "execution_count": 17,
     "metadata": {},
     "output_type": "execute_result"
    }
   ],
   "source": [
    "df_internet['month'] = pd.DatetimeIndex(df_internet['session_date']).month\n",
    "#df_internet['month2'] = pd.DatetimeIndex(df_internet['session_date']).month\n",
    "df_internet['year'] = pd.DatetimeIndex(df_internet['session_date']).year\n",
    "df_internet['year'].value_counts()"
   ]
  },
  {
   "cell_type": "code",
   "execution_count": 18,
   "id": "0159c599",
   "metadata": {
    "ExecuteTime": {
     "end_time": "2022-11-11T16:21:26.823283Z",
     "start_time": "2022-11-11T16:21:26.309871Z"
    },
    "scrolled": false
   },
   "outputs": [
    {
     "name": "stdout",
     "output_type": "stream",
     "text": [
      "<class 'pandas.core.frame.DataFrame'>\n",
      "RangeIndex: 76051 entries, 0 to 76050\n",
      "Data columns (total 3 columns):\n",
      " #   Column        Non-Null Count  Dtype \n",
      "---  ------        --------------  ----- \n",
      " 0   id            76051 non-null  object\n",
      " 1   user_id       76051 non-null  int64 \n",
      " 2   message_date  76051 non-null  object\n",
      "dtypes: int64(1), object(2)\n",
      "memory usage: 1.7+ MB\n",
      "            user_id\n",
      "count  76051.000000\n",
      "mean    1245.972768\n",
      "std      139.843635\n",
      "min     1000.000000\n",
      "25%     1123.000000\n",
      "50%     1251.000000\n",
      "75%     1362.000000\n",
      "max     1497.000000 None\n",
      "              id message_date\n",
      "count      76051        76051\n",
      "unique     76051          351\n",
      "top     1000_125   2018-12-28\n",
      "freq           1          702\n"
     ]
    }
   ],
   "source": [
    "print(df_messages.describe(), \n",
    "df_messages.info())\n",
    "print(df_messages.describe(include=object))"
   ]
  },
  {
   "cell_type": "code",
   "execution_count": 19,
   "id": "76a34bf2",
   "metadata": {
    "ExecuteTime": {
     "end_time": "2022-11-11T16:21:27.054638Z",
     "start_time": "2022-11-11T16:21:26.873148Z"
    },
    "scrolled": true
   },
   "outputs": [
    {
     "name": "stdout",
     "output_type": "stream",
     "text": [
      "<class 'pandas.core.frame.DataFrame'>\n",
      "RangeIndex: 76051 entries, 0 to 76050\n",
      "Data columns (total 3 columns):\n",
      " #   Column        Non-Null Count  Dtype         \n",
      "---  ------        --------------  -----         \n",
      " 0   id            76051 non-null  object        \n",
      " 1   user_id       76051 non-null  int64         \n",
      " 2   message_date  76051 non-null  datetime64[ns]\n",
      "dtypes: datetime64[ns](1), int64(1), object(1)\n",
      "memory usage: 1.7+ MB\n"
     ]
    }
   ],
   "source": [
    "df_messages['message_date']=pd.to_datetime(df_messages['message_date'], format='%Y-%m-%d')\n",
    "df_messages.info()"
   ]
  },
  {
   "cell_type": "code",
   "execution_count": 20,
   "id": "8f02de91",
   "metadata": {
    "ExecuteTime": {
     "end_time": "2022-11-11T16:21:27.166360Z",
     "start_time": "2022-11-11T16:21:27.062987Z"
    }
   },
   "outputs": [
    {
     "data": {
      "text/plain": [
       "2018    76051\n",
       "Name: year, dtype: int64"
      ]
     },
     "execution_count": 20,
     "metadata": {},
     "output_type": "execute_result"
    }
   ],
   "source": [
    "df_messages['month'] = pd.DatetimeIndex(df_messages['message_date']).month\n",
    "#df_messages['month2'] = pd.DatetimeIndex(df_messages['message_date']).month\n",
    "df_messages['year'] = pd.DatetimeIndex(df_messages['message_date']).year\n",
    "df_messages['year'].value_counts()"
   ]
  },
  {
   "cell_type": "code",
   "execution_count": 21,
   "id": "b25d8594",
   "metadata": {
    "ExecuteTime": {
     "end_time": "2022-11-11T16:21:27.338320Z",
     "start_time": "2022-11-11T16:21:27.178321Z"
    },
    "scrolled": false
   },
   "outputs": [
    {
     "name": "stdout",
     "output_type": "stream",
     "text": [
      "<class 'pandas.core.frame.DataFrame'>\n",
      "RangeIndex: 2 entries, 0 to 1\n",
      "Data columns (total 8 columns):\n",
      " #   Column                 Non-Null Count  Dtype  \n",
      "---  ------                 --------------  -----  \n",
      " 0   messages_included      2 non-null      int64  \n",
      " 1   mb_per_month_included  2 non-null      int64  \n",
      " 2   minutes_included       2 non-null      int64  \n",
      " 3   usd_monthly_pay        2 non-null      int64  \n",
      " 4   usd_per_gb             2 non-null      int64  \n",
      " 5   usd_per_message        2 non-null      float64\n",
      " 6   usd_per_minute         2 non-null      float64\n",
      " 7   plan_name              2 non-null      object \n",
      "dtypes: float64(2), int64(5), object(1)\n",
      "memory usage: 256.0+ bytes\n",
      "       messages_included  mb_per_month_included  minutes_included  \\\n",
      "count           2.000000               2.000000          2.000000   \n",
      "mean          525.000000           23040.000000       1750.000000   \n",
      "std           671.751442           10861.160159       1767.766953   \n",
      "min            50.000000           15360.000000        500.000000   \n",
      "25%           287.500000           19200.000000       1125.000000   \n",
      "50%           525.000000           23040.000000       1750.000000   \n",
      "75%           762.500000           26880.000000       2375.000000   \n",
      "max          1000.000000           30720.000000       3000.000000   \n",
      "\n",
      "       usd_monthly_pay  usd_per_gb  usd_per_message  usd_per_minute  \n",
      "count         2.000000     2.00000         2.000000        2.000000  \n",
      "mean         45.000000     8.50000         0.020000        0.020000  \n",
      "std          35.355339     2.12132         0.014142        0.014142  \n",
      "min          20.000000     7.00000         0.010000        0.010000  \n",
      "25%          32.500000     7.75000         0.015000        0.015000  \n",
      "50%          45.000000     8.50000         0.020000        0.020000  \n",
      "75%          57.500000     9.25000         0.025000        0.025000  \n",
      "max          70.000000    10.00000         0.030000        0.030000   None\n",
      "       plan_name\n",
      "count          2\n",
      "unique         2\n",
      "top         surf\n",
      "freq           1\n"
     ]
    }
   ],
   "source": [
    "print(df_plans.describe(),\n",
    "      df_plans.info())\n",
    "print(df_plans.describe(include=object))"
   ]
  },
  {
   "cell_type": "code",
   "execution_count": 22,
   "id": "eb565388",
   "metadata": {
    "ExecuteTime": {
     "end_time": "2022-11-11T16:21:27.495953Z",
     "start_time": "2022-11-11T16:21:27.349289Z"
    },
    "scrolled": false
   },
   "outputs": [
    {
     "name": "stdout",
     "output_type": "stream",
     "text": [
      "<class 'pandas.core.frame.DataFrame'>\n",
      "RangeIndex: 500 entries, 0 to 499\n",
      "Data columns (total 8 columns):\n",
      " #   Column      Non-Null Count  Dtype \n",
      "---  ------      --------------  ----- \n",
      " 0   user_id     500 non-null    int64 \n",
      " 1   first_name  500 non-null    object\n",
      " 2   last_name   500 non-null    object\n",
      " 3   age         500 non-null    int64 \n",
      " 4   city        500 non-null    object\n",
      " 5   reg_date    500 non-null    object\n",
      " 6   plan        500 non-null    object\n",
      " 7   churn_date  34 non-null     object\n",
      "dtypes: int64(2), object(6)\n",
      "memory usage: 31.4+ KB\n",
      "           user_id         age\n",
      "count   500.000000  500.000000\n",
      "mean   1249.500000   45.486000\n",
      "std     144.481833   16.972269\n",
      "min    1000.000000   18.000000\n",
      "25%    1124.750000   30.000000\n",
      "50%    1249.500000   46.000000\n",
      "75%    1374.250000   61.000000\n",
      "max    1499.000000   75.000000 None\n",
      "       first_name last_name                                       city  \\\n",
      "count         500       500                                        500   \n",
      "unique        458       399                                         73   \n",
      "top       Leonila     David  New York-Newark-Jersey City, NY-NJ-PA MSA   \n",
      "freq            3         3                                         80   \n",
      "\n",
      "          reg_date  plan  churn_date  \n",
      "count          500   500          34  \n",
      "unique         266     2          29  \n",
      "top     2018-03-08  surf  2018-12-18  \n",
      "freq             5   339           3  \n"
     ]
    }
   ],
   "source": [
    "print(df_users.describe(),\n",
    "      df_users.info())\n",
    "print(df_users.describe(include=object))"
   ]
  },
  {
   "cell_type": "code",
   "execution_count": 23,
   "id": "59bfa142",
   "metadata": {
    "ExecuteTime": {
     "end_time": "2022-11-11T16:21:27.574464Z",
     "start_time": "2022-11-11T16:21:27.504928Z"
    },
    "scrolled": false
   },
   "outputs": [
    {
     "name": "stdout",
     "output_type": "stream",
     "text": [
      "<class 'pandas.core.frame.DataFrame'>\n",
      "RangeIndex: 500 entries, 0 to 499\n",
      "Data columns (total 8 columns):\n",
      " #   Column      Non-Null Count  Dtype         \n",
      "---  ------      --------------  -----         \n",
      " 0   user_id     500 non-null    int64         \n",
      " 1   first_name  500 non-null    object        \n",
      " 2   last_name   500 non-null    object        \n",
      " 3   age         500 non-null    int64         \n",
      " 4   city        500 non-null    object        \n",
      " 5   reg_date    500 non-null    datetime64[ns]\n",
      " 6   plan        500 non-null    object        \n",
      " 7   churn_date  34 non-null     datetime64[ns]\n",
      "dtypes: datetime64[ns](2), int64(2), object(4)\n",
      "memory usage: 31.4+ KB\n"
     ]
    }
   ],
   "source": [
    "for column in ['reg_date','churn_date']:\n",
    "    df_users[column] = pd.to_datetime(df_users[column], format='%Y-%m-%d')\n",
    "    \n",
    "df_users.info()"
   ]
  },
  {
   "cell_type": "code",
   "execution_count": 24,
   "id": "ef6ed19e",
   "metadata": {
    "ExecuteTime": {
     "end_time": "2022-11-11T16:21:27.807393Z",
     "start_time": "2022-11-11T16:21:27.583851Z"
    }
   },
   "outputs": [
    {
     "data": {
      "text/plain": [
       "user_id  month\n",
       "1000     12       124.0\n",
       "1001     8        182.0\n",
       "         9        315.0\n",
       "         10       393.0\n",
       "         11       426.0\n",
       "Name: duration, dtype: float64"
      ]
     },
     "execution_count": 24,
     "metadata": {},
     "output_type": "execute_result"
    }
   ],
   "source": [
    "calls_grouped = df_calls.groupby(['user_id','month'])['duration'].sum()\n",
    "#calls_grouped = df_calls.groupby(['user_id','month']).agg({'duration' : ('count','sum')}).reset_index()\n",
    "#calls_grouped = df_calls.pivot_table(index = ('user_id','month'), values = 'duration', aggfunc = ('count','sum')).reset_index()\n",
    "\n",
    "\n",
    "messages_grouped = df_messages.groupby(['user_id','month'])['message_date'].count()\n",
    "#messages_grouped = df_messages.groupby(['user_id','month']).agg({'message_date' : ('count')}).reset_index()\n",
    "#messages_grouped = df_messages.pivot_table(index = ('user_id','month'), values = 'message_date', aggfunc = ('count')).reset_index()\n",
    "\n",
    "\n",
    "internet_grouped = df_internet.groupby(['user_id','month'])['mb_used'].sum()\n",
    "#internet_grouped = df_internet.groupby(['user_id','month']).agg({'mb_used' : ('sum')}).reset_index()\n",
    "#internet_grouped = df_internet.pivot_table(index = ('user_id','month'), values = 'mb_used', aggfunc = ('sum')).reset_index()\n",
    "\n",
    "calls_grouped.head()\n",
    "#messages_grouped\n",
    "#internet_grouped"
   ]
  },
  {
   "cell_type": "markdown",
   "id": "7f02570d",
   "metadata": {},
   "source": [
    "there are zeroes in the calls duration, will view them as missed calls and therefore not count them in the analysis.\n",
    "otherwise, can round call summed values up one minute, and data summed values usage up one Gigabyte."
   ]
  },
  {
   "cell_type": "code",
   "execution_count": 25,
   "id": "ef21b504",
   "metadata": {
    "ExecuteTime": {
     "end_time": "2022-11-11T16:21:27.854090Z",
     "start_time": "2022-11-11T16:21:27.817353Z"
    },
    "scrolled": true
   },
   "outputs": [],
   "source": [
    "\n",
    "\n",
    "\n",
    "\n",
    "internet_grouped = internet_grouped.apply(lambda x: np.ceil(x / 1024)) #converting to Gb and rounding up\n",
    "\n",
    "#calls_grouped\n"
   ]
  },
  {
   "cell_type": "code",
   "execution_count": 26,
   "id": "c24fa1a8",
   "metadata": {
    "ExecuteTime": {
     "end_time": "2022-11-11T16:21:27.915693Z",
     "start_time": "2022-11-11T16:21:27.868048Z"
    }
   },
   "outputs": [
    {
     "data": {
      "text/plain": [
       "user_id  month\n",
       "1000     12        2.0\n",
       "1001     8         7.0\n",
       "         9        14.0\n",
       "         10       22.0\n",
       "         11       19.0\n",
       "Name: mb_used, dtype: float64"
      ]
     },
     "execution_count": 26,
     "metadata": {},
     "output_type": "execute_result"
    }
   ],
   "source": [
    "internet_grouped.head()"
   ]
  },
  {
   "cell_type": "markdown",
   "id": "740c6664",
   "metadata": {},
   "source": [
    "merging the dataframes to calculate revenue per plan per month"
   ]
  },
  {
   "cell_type": "code",
   "execution_count": 27,
   "id": "66b11b3b",
   "metadata": {
    "ExecuteTime": {
     "end_time": "2022-11-11T16:21:28.197755Z",
     "start_time": "2022-11-11T16:21:27.925910Z"
    },
    "scrolled": false
   },
   "outputs": [
    {
     "data": {
      "text/html": [
       "<div>\n",
       "<style scoped>\n",
       "    .dataframe tbody tr th:only-of-type {\n",
       "        vertical-align: middle;\n",
       "    }\n",
       "\n",
       "    .dataframe tbody tr th {\n",
       "        vertical-align: top;\n",
       "    }\n",
       "\n",
       "    .dataframe thead th {\n",
       "        text-align: right;\n",
       "    }\n",
       "</style>\n",
       "<table border=\"1\" class=\"dataframe\">\n",
       "  <thead>\n",
       "    <tr style=\"text-align: right;\">\n",
       "      <th></th>\n",
       "      <th>user_id</th>\n",
       "      <th>month</th>\n",
       "      <th>gb_used</th>\n",
       "      <th>duration</th>\n",
       "      <th>message_count</th>\n",
       "      <th>first_name</th>\n",
       "      <th>last_name</th>\n",
       "      <th>age</th>\n",
       "      <th>city</th>\n",
       "      <th>reg_date</th>\n",
       "      <th>plan</th>\n",
       "      <th>churn_date</th>\n",
       "    </tr>\n",
       "  </thead>\n",
       "  <tbody>\n",
       "    <tr>\n",
       "      <th>0</th>\n",
       "      <td>1000</td>\n",
       "      <td>12.0</td>\n",
       "      <td>2.0</td>\n",
       "      <td>124.0</td>\n",
       "      <td>11.0</td>\n",
       "      <td>Anamaria</td>\n",
       "      <td>Bauer</td>\n",
       "      <td>45</td>\n",
       "      <td>Atlanta-Sandy Springs-Roswell, GA MSA</td>\n",
       "      <td>2018-12-24</td>\n",
       "      <td>ultimate</td>\n",
       "      <td>0</td>\n",
       "    </tr>\n",
       "    <tr>\n",
       "      <th>1</th>\n",
       "      <td>1001</td>\n",
       "      <td>8.0</td>\n",
       "      <td>7.0</td>\n",
       "      <td>182.0</td>\n",
       "      <td>30.0</td>\n",
       "      <td>Mickey</td>\n",
       "      <td>Wilkerson</td>\n",
       "      <td>28</td>\n",
       "      <td>Seattle-Tacoma-Bellevue, WA MSA</td>\n",
       "      <td>2018-08-13</td>\n",
       "      <td>surf</td>\n",
       "      <td>0</td>\n",
       "    </tr>\n",
       "    <tr>\n",
       "      <th>2</th>\n",
       "      <td>1001</td>\n",
       "      <td>9.0</td>\n",
       "      <td>14.0</td>\n",
       "      <td>315.0</td>\n",
       "      <td>44.0</td>\n",
       "      <td>Mickey</td>\n",
       "      <td>Wilkerson</td>\n",
       "      <td>28</td>\n",
       "      <td>Seattle-Tacoma-Bellevue, WA MSA</td>\n",
       "      <td>2018-08-13</td>\n",
       "      <td>surf</td>\n",
       "      <td>0</td>\n",
       "    </tr>\n",
       "    <tr>\n",
       "      <th>3</th>\n",
       "      <td>1001</td>\n",
       "      <td>10.0</td>\n",
       "      <td>22.0</td>\n",
       "      <td>393.0</td>\n",
       "      <td>53.0</td>\n",
       "      <td>Mickey</td>\n",
       "      <td>Wilkerson</td>\n",
       "      <td>28</td>\n",
       "      <td>Seattle-Tacoma-Bellevue, WA MSA</td>\n",
       "      <td>2018-08-13</td>\n",
       "      <td>surf</td>\n",
       "      <td>0</td>\n",
       "    </tr>\n",
       "    <tr>\n",
       "      <th>4</th>\n",
       "      <td>1001</td>\n",
       "      <td>11.0</td>\n",
       "      <td>19.0</td>\n",
       "      <td>426.0</td>\n",
       "      <td>36.0</td>\n",
       "      <td>Mickey</td>\n",
       "      <td>Wilkerson</td>\n",
       "      <td>28</td>\n",
       "      <td>Seattle-Tacoma-Bellevue, WA MSA</td>\n",
       "      <td>2018-08-13</td>\n",
       "      <td>surf</td>\n",
       "      <td>0</td>\n",
       "    </tr>\n",
       "    <tr>\n",
       "      <th>5</th>\n",
       "      <td>1001</td>\n",
       "      <td>12.0</td>\n",
       "      <td>19.0</td>\n",
       "      <td>412.0</td>\n",
       "      <td>44.0</td>\n",
       "      <td>Mickey</td>\n",
       "      <td>Wilkerson</td>\n",
       "      <td>28</td>\n",
       "      <td>Seattle-Tacoma-Bellevue, WA MSA</td>\n",
       "      <td>2018-08-13</td>\n",
       "      <td>surf</td>\n",
       "      <td>0</td>\n",
       "    </tr>\n",
       "    <tr>\n",
       "      <th>6</th>\n",
       "      <td>1002</td>\n",
       "      <td>10.0</td>\n",
       "      <td>7.0</td>\n",
       "      <td>59.0</td>\n",
       "      <td>15.0</td>\n",
       "      <td>Carlee</td>\n",
       "      <td>Hoffman</td>\n",
       "      <td>36</td>\n",
       "      <td>Las Vegas-Henderson-Paradise, NV MSA</td>\n",
       "      <td>2018-10-21</td>\n",
       "      <td>surf</td>\n",
       "      <td>0</td>\n",
       "    </tr>\n",
       "    <tr>\n",
       "      <th>7</th>\n",
       "      <td>1002</td>\n",
       "      <td>11.0</td>\n",
       "      <td>19.0</td>\n",
       "      <td>386.0</td>\n",
       "      <td>32.0</td>\n",
       "      <td>Carlee</td>\n",
       "      <td>Hoffman</td>\n",
       "      <td>36</td>\n",
       "      <td>Las Vegas-Henderson-Paradise, NV MSA</td>\n",
       "      <td>2018-10-21</td>\n",
       "      <td>surf</td>\n",
       "      <td>0</td>\n",
       "    </tr>\n",
       "    <tr>\n",
       "      <th>8</th>\n",
       "      <td>1002</td>\n",
       "      <td>12.0</td>\n",
       "      <td>15.0</td>\n",
       "      <td>384.0</td>\n",
       "      <td>41.0</td>\n",
       "      <td>Carlee</td>\n",
       "      <td>Hoffman</td>\n",
       "      <td>36</td>\n",
       "      <td>Las Vegas-Henderson-Paradise, NV MSA</td>\n",
       "      <td>2018-10-21</td>\n",
       "      <td>surf</td>\n",
       "      <td>0</td>\n",
       "    </tr>\n",
       "    <tr>\n",
       "      <th>9</th>\n",
       "      <td>1003</td>\n",
       "      <td>12.0</td>\n",
       "      <td>27.0</td>\n",
       "      <td>1104.0</td>\n",
       "      <td>50.0</td>\n",
       "      <td>Reynaldo</td>\n",
       "      <td>Jenkins</td>\n",
       "      <td>52</td>\n",
       "      <td>Tulsa, OK MSA</td>\n",
       "      <td>2018-01-28</td>\n",
       "      <td>surf</td>\n",
       "      <td>0</td>\n",
       "    </tr>\n",
       "  </tbody>\n",
       "</table>\n",
       "</div>"
      ],
      "text/plain": [
       "   user_id  month  gb_used  duration  message_count first_name  last_name  \\\n",
       "0     1000   12.0      2.0     124.0           11.0   Anamaria      Bauer   \n",
       "1     1001    8.0      7.0     182.0           30.0     Mickey  Wilkerson   \n",
       "2     1001    9.0     14.0     315.0           44.0     Mickey  Wilkerson   \n",
       "3     1001   10.0     22.0     393.0           53.0     Mickey  Wilkerson   \n",
       "4     1001   11.0     19.0     426.0           36.0     Mickey  Wilkerson   \n",
       "5     1001   12.0     19.0     412.0           44.0     Mickey  Wilkerson   \n",
       "6     1002   10.0      7.0      59.0           15.0     Carlee    Hoffman   \n",
       "7     1002   11.0     19.0     386.0           32.0     Carlee    Hoffman   \n",
       "8     1002   12.0     15.0     384.0           41.0     Carlee    Hoffman   \n",
       "9     1003   12.0     27.0    1104.0           50.0   Reynaldo    Jenkins   \n",
       "\n",
       "   age                                   city   reg_date      plan churn_date  \n",
       "0   45  Atlanta-Sandy Springs-Roswell, GA MSA 2018-12-24  ultimate          0  \n",
       "1   28        Seattle-Tacoma-Bellevue, WA MSA 2018-08-13      surf          0  \n",
       "2   28        Seattle-Tacoma-Bellevue, WA MSA 2018-08-13      surf          0  \n",
       "3   28        Seattle-Tacoma-Bellevue, WA MSA 2018-08-13      surf          0  \n",
       "4   28        Seattle-Tacoma-Bellevue, WA MSA 2018-08-13      surf          0  \n",
       "5   28        Seattle-Tacoma-Bellevue, WA MSA 2018-08-13      surf          0  \n",
       "6   36   Las Vegas-Henderson-Paradise, NV MSA 2018-10-21      surf          0  \n",
       "7   36   Las Vegas-Henderson-Paradise, NV MSA 2018-10-21      surf          0  \n",
       "8   36   Las Vegas-Henderson-Paradise, NV MSA 2018-10-21      surf          0  \n",
       "9   52                          Tulsa, OK MSA 2018-01-28      surf          0  "
      ]
     },
     "execution_count": 27,
     "metadata": {},
     "output_type": "execute_result"
    }
   ],
   "source": [
    "total1= pd.merge(left = internet_grouped , right = calls_grouped, how='outer',on=['user_id', 'month']).fillna(0)\n",
    "total2=pd.merge(left = total1 , right = messages_grouped, how='outer',on=['user_id', 'month']).fillna(0)\n",
    "total2.reset_index( inplace=True)\n",
    "total2.head()\n",
    "total3=pd.merge(left = total2 , right = df_users, how = 'outer', on=['user_id']).fillna(0)\n",
    "total3.columns=['user_id','month','gb_used','duration','message_count','first_name','last_name','age','city','reg_date','plan','churn_date']\n",
    "total3.head(10)"
   ]
  },
  {
   "cell_type": "markdown",
   "id": "115e0eaf",
   "metadata": {},
   "source": [
    "defining a function that'll compute the revenue per user per month"
   ]
  },
  {
   "cell_type": "code",
   "execution_count": 28,
   "id": "1ef40ac5",
   "metadata": {
    "ExecuteTime": {
     "end_time": "2022-11-11T16:21:28.228374Z",
     "start_time": "2022-11-11T16:21:28.205442Z"
    }
   },
   "outputs": [],
   "source": [
    "def cost(row):\n",
    "    cost=0\n",
    "    gb_used=row['gb_used']\n",
    "    duration=row['duration']\n",
    "    message_count=row['message_count']\n",
    "    plan=row['plan']\n",
    "    if plan=='surf':\n",
    "        if message_count>50:\n",
    "            cost+=(message_count-50)*0.03\n",
    "        if duration>500:\n",
    "            cost+=(duration-500)*0.03\n",
    "        if gb_used>15:\n",
    "            cost+=(gb_used-15)*10\n",
    "        return cost+20\n",
    "    if plan=='ultimate':\n",
    "        if message_count>1000:\n",
    "            cost+=(message_count-1000)*0.01\n",
    "        if duration>3000:\n",
    "            cost+=(duration-3000)*0.01\n",
    "        if gb_used>30:\n",
    "            cost+=(gb_used-30)*7\n",
    "        return cost+70\n",
    "    \n",
    "    "
   ]
  },
  {
   "cell_type": "markdown",
   "id": "d6ff124e",
   "metadata": {},
   "source": [
    "applying the cost function row-wise"
   ]
  },
  {
   "cell_type": "code",
   "execution_count": 29,
   "id": "123b5a42",
   "metadata": {
    "ExecuteTime": {
     "end_time": "2022-11-11T16:21:28.572181Z",
     "start_time": "2022-11-11T16:21:28.237351Z"
    }
   },
   "outputs": [],
   "source": [
    "total3['total_cost']=total3.apply(cost,axis=1)\n",
    "\n"
   ]
  },
  {
   "cell_type": "code",
   "execution_count": 30,
   "id": "f284a8bb",
   "metadata": {
    "ExecuteTime": {
     "end_time": "2022-11-11T16:21:28.682165Z",
     "start_time": "2022-11-11T16:21:28.585146Z"
    },
    "scrolled": false
   },
   "outputs": [
    {
     "data": {
      "text/html": [
       "<div>\n",
       "<style scoped>\n",
       "    .dataframe tbody tr th:only-of-type {\n",
       "        vertical-align: middle;\n",
       "    }\n",
       "\n",
       "    .dataframe tbody tr th {\n",
       "        vertical-align: top;\n",
       "    }\n",
       "\n",
       "    .dataframe thead th {\n",
       "        text-align: right;\n",
       "    }\n",
       "</style>\n",
       "<table border=\"1\" class=\"dataframe\">\n",
       "  <thead>\n",
       "    <tr style=\"text-align: right;\">\n",
       "      <th></th>\n",
       "      <th>user_id</th>\n",
       "      <th>month</th>\n",
       "      <th>gb_used</th>\n",
       "      <th>duration</th>\n",
       "      <th>message_count</th>\n",
       "      <th>first_name</th>\n",
       "      <th>last_name</th>\n",
       "      <th>age</th>\n",
       "      <th>city</th>\n",
       "      <th>reg_date</th>\n",
       "      <th>plan</th>\n",
       "      <th>churn_date</th>\n",
       "      <th>total_cost</th>\n",
       "    </tr>\n",
       "  </thead>\n",
       "  <tbody>\n",
       "    <tr>\n",
       "      <th>0</th>\n",
       "      <td>1000</td>\n",
       "      <td>12.0</td>\n",
       "      <td>2.0</td>\n",
       "      <td>124.0</td>\n",
       "      <td>11.0</td>\n",
       "      <td>Anamaria</td>\n",
       "      <td>Bauer</td>\n",
       "      <td>45</td>\n",
       "      <td>Atlanta-Sandy Springs-Roswell, GA MSA</td>\n",
       "      <td>2018-12-24</td>\n",
       "      <td>ultimate</td>\n",
       "      <td>0</td>\n",
       "      <td>70.00</td>\n",
       "    </tr>\n",
       "    <tr>\n",
       "      <th>1</th>\n",
       "      <td>1001</td>\n",
       "      <td>8.0</td>\n",
       "      <td>7.0</td>\n",
       "      <td>182.0</td>\n",
       "      <td>30.0</td>\n",
       "      <td>Mickey</td>\n",
       "      <td>Wilkerson</td>\n",
       "      <td>28</td>\n",
       "      <td>Seattle-Tacoma-Bellevue, WA MSA</td>\n",
       "      <td>2018-08-13</td>\n",
       "      <td>surf</td>\n",
       "      <td>0</td>\n",
       "      <td>20.00</td>\n",
       "    </tr>\n",
       "    <tr>\n",
       "      <th>2</th>\n",
       "      <td>1001</td>\n",
       "      <td>9.0</td>\n",
       "      <td>14.0</td>\n",
       "      <td>315.0</td>\n",
       "      <td>44.0</td>\n",
       "      <td>Mickey</td>\n",
       "      <td>Wilkerson</td>\n",
       "      <td>28</td>\n",
       "      <td>Seattle-Tacoma-Bellevue, WA MSA</td>\n",
       "      <td>2018-08-13</td>\n",
       "      <td>surf</td>\n",
       "      <td>0</td>\n",
       "      <td>20.00</td>\n",
       "    </tr>\n",
       "    <tr>\n",
       "      <th>3</th>\n",
       "      <td>1001</td>\n",
       "      <td>10.0</td>\n",
       "      <td>22.0</td>\n",
       "      <td>393.0</td>\n",
       "      <td>53.0</td>\n",
       "      <td>Mickey</td>\n",
       "      <td>Wilkerson</td>\n",
       "      <td>28</td>\n",
       "      <td>Seattle-Tacoma-Bellevue, WA MSA</td>\n",
       "      <td>2018-08-13</td>\n",
       "      <td>surf</td>\n",
       "      <td>0</td>\n",
       "      <td>90.09</td>\n",
       "    </tr>\n",
       "    <tr>\n",
       "      <th>4</th>\n",
       "      <td>1001</td>\n",
       "      <td>11.0</td>\n",
       "      <td>19.0</td>\n",
       "      <td>426.0</td>\n",
       "      <td>36.0</td>\n",
       "      <td>Mickey</td>\n",
       "      <td>Wilkerson</td>\n",
       "      <td>28</td>\n",
       "      <td>Seattle-Tacoma-Bellevue, WA MSA</td>\n",
       "      <td>2018-08-13</td>\n",
       "      <td>surf</td>\n",
       "      <td>0</td>\n",
       "      <td>60.00</td>\n",
       "    </tr>\n",
       "  </tbody>\n",
       "</table>\n",
       "</div>"
      ],
      "text/plain": [
       "   user_id  month  gb_used  duration  message_count first_name  last_name  \\\n",
       "0     1000   12.0      2.0     124.0           11.0   Anamaria      Bauer   \n",
       "1     1001    8.0      7.0     182.0           30.0     Mickey  Wilkerson   \n",
       "2     1001    9.0     14.0     315.0           44.0     Mickey  Wilkerson   \n",
       "3     1001   10.0     22.0     393.0           53.0     Mickey  Wilkerson   \n",
       "4     1001   11.0     19.0     426.0           36.0     Mickey  Wilkerson   \n",
       "\n",
       "   age                                   city   reg_date      plan churn_date  \\\n",
       "0   45  Atlanta-Sandy Springs-Roswell, GA MSA 2018-12-24  ultimate          0   \n",
       "1   28        Seattle-Tacoma-Bellevue, WA MSA 2018-08-13      surf          0   \n",
       "2   28        Seattle-Tacoma-Bellevue, WA MSA 2018-08-13      surf          0   \n",
       "3   28        Seattle-Tacoma-Bellevue, WA MSA 2018-08-13      surf          0   \n",
       "4   28        Seattle-Tacoma-Bellevue, WA MSA 2018-08-13      surf          0   \n",
       "\n",
       "   total_cost  \n",
       "0       70.00  \n",
       "1       20.00  \n",
       "2       20.00  \n",
       "3       90.09  \n",
       "4       60.00  "
      ]
     },
     "execution_count": 30,
     "metadata": {},
     "output_type": "execute_result"
    }
   ],
   "source": [
    "total3.head()"
   ]
  },
  {
   "cell_type": "markdown",
   "id": "7ae8a713",
   "metadata": {},
   "source": [
    "yes! we got all we need"
   ]
  },
  {
   "cell_type": "markdown",
   "id": "988d6b0c",
   "metadata": {},
   "source": [
    "## Analysis"
   ]
  },
  {
   "cell_type": "markdown",
   "id": "f6608a7a",
   "metadata": {},
   "source": [
    "subsetting the data by plans:"
   ]
  },
  {
   "cell_type": "code",
   "execution_count": 31,
   "id": "084deae0",
   "metadata": {
    "ExecuteTime": {
     "end_time": "2022-11-11T16:21:28.744862Z",
     "start_time": "2022-11-11T16:21:28.690138Z"
    }
   },
   "outputs": [],
   "source": [
    "surf=total3.query(\"plan == 'surf'\")\n",
    "\n",
    "ultimate = total3.query(\"plan == 'ultimate'\")"
   ]
  },
  {
   "cell_type": "markdown",
   "id": "d8584cf0",
   "metadata": {},
   "source": [
    "plotting minutes, texts, volume of data:"
   ]
  },
  {
   "cell_type": "code",
   "execution_count": 32,
   "id": "8305956f",
   "metadata": {
    "ExecuteTime": {
     "end_time": "2022-11-11T16:21:30.651390Z",
     "start_time": "2022-11-11T16:21:28.757827Z"
    },
    "scrolled": false
   },
   "outputs": [
    {
     "data": {
      "image/png": "[encoded data removed]",
      "text/plain": [
       "<Figure size 432x288 with 1 Axes>"
      ]
     },
     "metadata": {
      "needs_background": "light"
     },
     "output_type": "display_data"
    },
    {
     "name": "stdout",
     "output_type": "stream",
     "text": [
      "ultimate minutes mean: 428.0718232044199 ultimate minutes variance: 58463.016940874775\n",
      "ultimate minutes standard deviation: 241.79126729655638\n",
      "most of the data can be found in this range: (-297.30197868524925, 1153.445625094089)\n"
     ]
    }
   ],
   "source": [
    "ultimate_minutes_mean = ultimate['duration'].mean()\n",
    "ultimate_minutes_variance = np.var(ultimate['duration'])\n",
    "ultimate_minutes_std = np.sqrt(ultimate_minutes_variance)\n",
    "fig = ultimate.hist('duration', density=True, bins = 100, color='purple')\n",
    "plt.xlabel('duration in minutes')\n",
    "plt.ylabel('Frequency - Density')\n",
    "plt.title('Ultimate plan Duration histogram')\n",
    "plt.show()\n",
    "print(\"ultimate minutes mean:\", ultimate_minutes_mean, \"ultimate minutes variance:\", ultimate_minutes_variance)\n",
    "print(\"ultimate minutes standard deviation:\", ultimate_minutes_std)\n",
    "print(\"most of the data can be found in this range:\", (ultimate_minutes_mean - 3*ultimate_minutes_std, ultimate_minutes_mean + 3*ultimate_minutes_std))"
   ]
  },
  {
   "cell_type": "markdown",
   "id": "fde92ca3",
   "metadata": {},
   "source": [
    "the duration histogram looks like a normal bell curve skewed to the right. there's a spike close to zero probably because many people don't call anymore (personally i've grown to hate calls since messaging became so easy)\n",
    "the values are concentrated around 428 minutes."
   ]
  },
  {
   "cell_type": "code",
   "execution_count": 33,
   "id": "bad01e85",
   "metadata": {
    "ExecuteTime": {
     "end_time": "2022-11-11T16:21:32.442054Z",
     "start_time": "2022-11-11T16:21:30.663324Z"
    }
   },
   "outputs": [
    {
     "data": {
      "image/png": "[encoded data removed]",
      "text/plain": [
       "<Figure size 432x288 with 1 Axes>"
      ]
     },
     "metadata": {
      "needs_background": "light"
     },
     "output_type": "display_data"
    },
    {
     "name": "stdout",
     "output_type": "stream",
     "text": [
      "ultimate message mean: 37.3439226519337 ultimate text variance: 1208.156579087935\n",
      "ultimate texts standard deviation: 34.758546849486315\n",
      "most of the data can be found in this range: (0, 141.61956320039263)\n"
     ]
    }
   ],
   "source": [
    "ultimate_texts_mean = ultimate['message_count'].mean()\n",
    "ultimate_texts_variance = np.var(ultimate['message_count'])\n",
    "ultimate_texts_std = np.sqrt(ultimate_texts_variance)\n",
    "fig = ultimate.hist('message_count', density=True, bins=100, color='purple')\n",
    "plt.xlabel('message count')\n",
    "plt.ylabel('Frequency - Density')\n",
    "plt.title('Ultimate message histogram')\n",
    "plt.show()\n",
    "print(\"ultimate message mean:\", ultimate_texts_mean, \"ultimate text variance:\", ultimate_texts_variance)\n",
    "print(\"ultimate texts standard deviation:\", ultimate_texts_std)\n",
    "print(\"most of the data can be found in this range:\", (0, ultimate_texts_mean + 3*ultimate_texts_std))"
   ]
  },
  {
   "cell_type": "markdown",
   "id": "351e2a22",
   "metadata": {},
   "source": [
    "looks like the message histogram is uniformly distributed more or less. spike at zero can be explained by increase in messaging apps like whatsapp, telegram instead of old Short Messaging Service (SMS)"
   ]
  },
  {
   "cell_type": "code",
   "execution_count": 34,
   "id": "d8dba70d",
   "metadata": {
    "ExecuteTime": {
     "end_time": "2022-11-11T16:21:34.019227Z",
     "start_time": "2022-11-11T16:21:32.466373Z"
    }
   },
   "outputs": [
    {
     "data": {
      "image/png": "[encoded data removed]",
      "text/plain": [
       "<Figure size 432x288 with 1 Axes>"
      ]
     },
     "metadata": {
      "needs_background": "light"
     },
     "output_type": "display_data"
    },
    {
     "name": "stdout",
     "output_type": "stream",
     "text": [
      "ultimate data mean: 17.21132596685083 ultimate data variance: 60.06998221971226\n",
      "ultimate data standard deviation: 7.750482708819642\n",
      "most of the data can be found in this range: (0, 40.462774093309754)\n"
     ]
    }
   ],
   "source": [
    "ultimate_data_mean = ultimate['gb_used'].mean()\n",
    "ultimate_data_variance = np.var(ultimate['gb_used'])\n",
    "ultimate_data_std = np.sqrt(ultimate_data_variance)\n",
    "fig = ultimate.hist('gb_used', density=True, bins =100, color='purple')\n",
    "plt.xlabel('gb used')\n",
    "plt.ylabel('Frequency - Density')\n",
    "plt.title('Ultimate data histogram')\n",
    "plt.show()\n",
    "print(\"ultimate data mean:\", ultimate_data_mean, \"ultimate data variance:\", ultimate_data_variance)\n",
    "print(\"ultimate data standard deviation:\", ultimate_data_std)\n",
    "print(\"most of the data can be found in this range:\", (0, ultimate_data_mean + 3*ultimate_data_std))"
   ]
  },
  {
   "cell_type": "markdown",
   "id": "9013a1fb",
   "metadata": {},
   "source": [
    "in the data histogram we got a beautiful bell curve. in contrast to calls and texts, we see a much more regular distribution around the mean of 17 Gb, everyone uses data to some degree!"
   ]
  },
  {
   "cell_type": "code",
   "execution_count": 35,
   "id": "6f6089e1",
   "metadata": {
    "ExecuteTime": {
     "end_time": "2022-11-11T16:21:35.502522Z",
     "start_time": "2022-11-11T16:21:34.030199Z"
    },
    "scrolled": true
   },
   "outputs": [
    {
     "data": {
      "image/png": "[encoded data removed]",
      "text/plain": [
       "<Figure size 432x288 with 1 Axes>"
      ]
     },
     "metadata": {
      "needs_background": "light"
     },
     "output_type": "display_data"
    },
    {
     "name": "stdout",
     "output_type": "stream",
     "text": [
      "surf minutes mean: 427.12032932235593 surf minutes variance: 55420.456705148026\n",
      "surf minutes standard deviation: 235.41549801393285\n",
      "most of the data can be found in this range: (0, 1133.3668233641545)\n"
     ]
    }
   ],
   "source": [
    "surf_minutes_mean = surf['duration'].mean()\n",
    "surf_minutes_variance = np.var(surf['duration'])\n",
    "surf_minutes_std = np.sqrt(surf_minutes_variance)\n",
    "fig = surf.hist('duration', density=True, bins=100, color='red')\n",
    "plt.xlabel('duration')\n",
    "plt.ylabel('Frequency - Density')\n",
    "plt.title('Surf Duration histogram')\n",
    "plt.show()\n",
    "print(\"surf minutes mean:\", surf_minutes_mean, \"surf minutes variance:\", surf_minutes_variance)\n",
    "print(\"surf minutes standard deviation:\", surf_minutes_std)\n",
    "print(\"most of the data can be found in this range:\", (0, surf_minutes_mean + 3*surf_minutes_std))"
   ]
  },
  {
   "cell_type": "markdown",
   "id": "d1877f39",
   "metadata": {},
   "source": [
    "mean is practically the same as Ultimate plan, though we got a LOT more data here. the plan is cheaper, so obviously more people choose it\n",
    "also looks like a normal distribution skewed to the right"
   ]
  },
  {
   "cell_type": "code",
   "execution_count": 36,
   "id": "06d26f39",
   "metadata": {
    "ExecuteTime": {
     "end_time": "2022-11-11T16:21:37.049099Z",
     "start_time": "2022-11-11T16:21:35.524001Z"
    }
   },
   "outputs": [
    {
     "data": {
      "image/png": "[encoded data removed]",
      "text/plain": [
       "<Figure size 432x288 with 1 Axes>"
      ]
     },
     "metadata": {
      "needs_background": "light"
     },
     "output_type": "display_data"
    },
    {
     "name": "stdout",
     "output_type": "stream",
     "text": [
      "surf texts mean: 31.041165294490185 surf text variance: 1125.4048918656445\n",
      "surf texts standard deviation: 33.5470548910876\n",
      "most of the data can be found in this range: (0, 131.682329967753)\n"
     ]
    }
   ],
   "source": [
    "surf_texts_mean = surf['message_count'].mean()\n",
    "surf_texts_variance = np.var(surf['message_count'])\n",
    "surf_texts_std = np.sqrt(surf_texts_variance)\n",
    "fig = surf.hist('message_count', density=True, bins=100, color='red')\n",
    "plt.xlabel('message count')\n",
    "plt.ylabel('Frequency - Density')\n",
    "plt.title('Surf message histogram')\n",
    "plt.show()\n",
    "print(\"surf texts mean:\", surf_texts_mean, \"surf text variance:\", surf_texts_variance)\n",
    "print(\"surf texts standard deviation:\", surf_texts_std)\n",
    "print(\"most of the data can be found in this range:\", (0, surf_texts_mean + 3*surf_texts_std))"
   ]
  },
  {
   "cell_type": "markdown",
   "id": "7d6901d9",
   "metadata": {},
   "source": [
    "as there are more data points, we get a more normal (though skewed to the right) distribution. still huge spike at zero"
   ]
  },
  {
   "cell_type": "code",
   "execution_count": 37,
   "id": "1edc0b76",
   "metadata": {
    "ExecuteTime": {
     "end_time": "2022-11-11T16:21:38.894301Z",
     "start_time": "2022-11-11T16:21:37.089953Z"
    }
   },
   "outputs": [
    {
     "data": {
      "image/png": "[encoded data removed]",
      "text/plain": [
       "<Figure size 432x288 with 1 Axes>"
      ]
     },
     "metadata": {
      "needs_background": "light"
     },
     "output_type": "display_data"
    },
    {
     "name": "stdout",
     "output_type": "stream",
     "text": [
      "surf data mean: 16.60734642178594 surf data variance: 62.36260594142332\n",
      "surf data standard deviation: 7.896999806345655\n",
      "most of the data can be found in this range: (0, 40.298345840822904)\n"
     ]
    }
   ],
   "source": [
    "surf_data_mean = surf['gb_used'].mean()\n",
    "surf_data_variance = np.var(surf['gb_used'])\n",
    "surf_data_std = np.sqrt(surf_data_variance)\n",
    "fig = surf.hist('gb_used', density=True,bins= 100, color='red')\n",
    "plt.xlabel('data used in gb')\n",
    "plt.ylabel('Frequency - Density')\n",
    "plt.title('Surf data used histogram')\n",
    "plt.show()\n",
    "print(\"surf data mean:\", surf_data_mean, \"surf data variance:\", surf_data_variance)\n",
    "print(\"surf data standard deviation:\", surf_data_std)\n",
    "print(\"most of the data can be found in this range:\", (0, surf_data_mean + 3*surf_data_std))"
   ]
  },
  {
   "cell_type": "markdown",
   "id": "831961e0",
   "metadata": {},
   "source": [
    "as with the ultimate data histogram, we get a neat little bell curve."
   ]
  },
  {
   "cell_type": "markdown",
   "id": "f21b51eb",
   "metadata": {},
   "source": [
    "## Testing hypotheses\n",
    "\n",
    "hypothesis 1 - the average revenue from users of Ultimate and Surf calling plans differs.\n",
    "in that case, the null hypothesis is that the average revenue is the same because we want the equals sign in the null hypothesis.\n",
    "\n",
    "hypothesis 2 - the average revenue from users in NY-NJ area is different from that of the users from other regions.\n",
    "for the same reason as hypothesis 1, the null hypothesis will be that the average revenue from the 2 areas is the same.\n",
    "\n",
    "we'll use a standard alpha value of 5%. "
   ]
  },
  {
   "cell_type": "code",
   "execution_count": 38,
   "id": "4ffb5c2a",
   "metadata": {
    "ExecuteTime": {
     "end_time": "2022-11-11T16:21:39.006008Z",
     "start_time": "2022-11-11T16:21:38.907268Z"
    }
   },
   "outputs": [
    {
     "name": "stdout",
     "output_type": "stream",
     "text": [
      "variance for ultimate user revenue: 128.98115900002801\n",
      "variance for surf user revenue: 3060.5073785813947\n",
      "the variance is not in the same ballpark so we'll set equal_var=False while testing\n"
     ]
    },
    {
     "data": {
      "text/plain": [
       "LeveneResult(statistic=598.0794664776835, pvalue=1.3114884106245685e-117)"
      ]
     },
     "execution_count": 38,
     "metadata": {},
     "output_type": "execute_result"
    }
   ],
   "source": [
    "\n",
    "\n",
    "print(\"variance for ultimate user revenue:\", np.var(ultimate['total_cost']))\n",
    "print(\"variance for surf user revenue:\", np.var(surf['total_cost']))\n",
    "print(\"the variance is not in the same ballpark so we'll set equal_var=False while testing\")\n",
    "\n",
    "st.levene(surf['total_cost'], ultimate['total_cost'], center='mean')"
   ]
  },
  {
   "cell_type": "markdown",
   "id": "6d87220c",
   "metadata": {},
   "source": [
    "we can reject the null hypothesis that the variances are equal"
   ]
  },
  {
   "cell_type": "code",
   "execution_count": 39,
   "id": "ce3e2d45",
   "metadata": {
    "ExecuteTime": {
     "end_time": "2022-11-11T16:21:39.100281Z",
     "start_time": "2022-11-11T16:21:39.029942Z"
    }
   },
   "outputs": [
    {
     "name": "stdout",
     "output_type": "stream",
     "text": [
      "p-value:  1.2184115852123163e-15\n",
      "We reject the null hypothesis\n",
      "surf mean: 60.5517289423685\n",
      "ultimate mean: 72.3011049723757\n"
     ]
    }
   ],
   "source": [
    "alpha = 0.05  # critical statistical significance level\n",
    "# if the p-value is less than alpha, we reject the hypothesis\n",
    "\n",
    "result1 = st.ttest_ind(\n",
    "    surf['total_cost'], ultimate['total_cost'], equal_var=False)\n",
    "print('p-value: ', result1.pvalue)\n",
    "if result1.pvalue < alpha:\n",
    "    print(\"We reject the null hypothesis\")\n",
    "else:\n",
    "    print(\"We can't reject the null hypothesis\")\n",
    "    \n",
    "print(\"surf mean:\", surf['total_cost'].mean())\n",
    "print(\"ultimate mean:\", ultimate['total_cost'].mean())"
   ]
  },
  {
   "cell_type": "markdown",
   "id": "24f7f01f",
   "metadata": {},
   "source": [
    "we see the ultimate plan brings in more revenue on average, and the t-test confirms it, the p-value is much smaller than our chosen alpha."
   ]
  },
  {
   "cell_type": "code",
   "execution_count": 40,
   "id": "540f0d07",
   "metadata": {
    "ExecuteTime": {
     "end_time": "2022-11-11T16:21:39.178070Z",
     "start_time": "2022-11-11T16:21:39.111251Z"
    }
   },
   "outputs": [],
   "source": [
    "NY_NJ=total3[total3['city'].str.contains(\"NY-NJ\")]\n",
    "\n",
    "other_areas=total3[~total3['city'].str.contains(\"NY-NJ\")]\n"
   ]
  },
  {
   "cell_type": "code",
   "execution_count": 41,
   "id": "0f96e06a",
   "metadata": {
    "ExecuteTime": {
     "end_time": "2022-11-11T16:21:39.240903Z",
     "start_time": "2022-11-11T16:21:39.196022Z"
    }
   },
   "outputs": [
    {
     "name": "stdout",
     "output_type": "stream",
     "text": [
      "NY-NJ variance is  1885.7843645817604\n",
      "other areas variance is  2219.881380131204\n"
     ]
    }
   ],
   "source": [
    "print(\"NY-NJ variance is \",np.var(NY_NJ['total_cost']))\n",
    "print(\"other areas variance is \", np.var(other_areas['total_cost']))"
   ]
  },
  {
   "cell_type": "markdown",
   "id": "159142a5",
   "metadata": {},
   "source": [
    "the variances are close, let's test them"
   ]
  },
  {
   "cell_type": "code",
   "execution_count": 42,
   "id": "6382e006",
   "metadata": {
    "ExecuteTime": {
     "end_time": "2022-11-11T16:21:39.304734Z",
     "start_time": "2022-11-11T16:21:39.253867Z"
    }
   },
   "outputs": [
    {
     "data": {
      "text/plain": [
       "LeveneResult(statistic=1.7386932171327423, pvalue=0.18743571504599707)"
      ]
     },
     "execution_count": 42,
     "metadata": {},
     "output_type": "execute_result"
    }
   ],
   "source": [
    "st.levene(NY_NJ['total_cost'], other_areas['total_cost'], center='mean')"
   ]
  },
  {
   "cell_type": "markdown",
   "id": "a62edc3b",
   "metadata": {},
   "source": [
    "we can't reject the null hypothesis that the variances are equal, therefore we'll set equal_var=True.\n",
    "now we'll test for the null hypothesis that the average revenue for users in the NY-NJ area is the same as users in other areas."
   ]
  },
  {
   "cell_type": "code",
   "execution_count": 43,
   "id": "b3fecdfb",
   "metadata": {
    "ExecuteTime": {
     "end_time": "2022-11-11T16:21:39.378743Z",
     "start_time": "2022-11-11T16:21:39.317699Z"
    }
   },
   "outputs": [
    {
     "name": "stdout",
     "output_type": "stream",
     "text": [
      "p-value:  0.049745282774076104\n",
      "We reject the null hypothesis\n",
      "NY-NJ mean: 60.5517289423685\n",
      "other areas mean: 72.3011049723757\n"
     ]
    }
   ],
   "source": [
    "alpha = 0.05  # critical statistical significance level\n",
    "# if the p-value is less than alpha, we reject the hypothesis\n",
    "\n",
    "result2 = st.ttest_ind(\n",
    "    NY_NJ['total_cost'], other_areas['total_cost'], equal_var=True)\n",
    "print('p-value: ', result2.pvalue)\n",
    "if result2.pvalue < alpha:\n",
    "    print(\"We reject the null hypothesis\")\n",
    "else:\n",
    "    print(\"We can't reject the null hypothesis\")\n",
    "    \n",
    "print(\"NY-NJ mean:\", surf['total_cost'].mean())\n",
    "print(\"other areas mean:\", ultimate['total_cost'].mean())"
   ]
  },
  {
   "cell_type": "markdown",
   "id": "6b163cfa",
   "metadata": {},
   "source": [
    "based on the statistical test, we can reject the null hypothesis. although the p-value is really close to our alpha, it's like a borderline case. in practice we see the means are different."
   ]
  },
  {
   "cell_type": "markdown",
   "id": "98343c8d",
   "metadata": {},
   "source": [
    "# General Conclusion\n",
    "\n",
    "### Preprocessing\n",
    "we've changed the date column types from object to datetime so we can access the month number to add month column in order to group by user monthly for calculation of monthly average per user. if this kind of analysis is needed on a regular basis, i'd ask the data engineers to gather the date information in date-time format so it would be easier for everyone who works on the data to access needed parts (months, years)\n",
    "we also rounded up minutes per call.\n",
    "\n",
    "### Analysis\n",
    "we saw that a lot of the customers don't use calls or texts. they either don't call or use internet based calling and messaging apps. the advertising should focus more on data and less on calls and texts as they are getting more outdated methods of communication\n",
    "\n",
    "### Testing Hypotheses\n",
    "\n",
    "\n",
    "we've analysed plan monthly revenue per user, and saw that the Ultimate plan brings in more money on average. a reasonable explanation would be that people who get the Ultimate plan know ahead of time that they're heavy phone users, so they also use up all of their allowances (data ,text , call limits) i'd advise the commercial department to divert the ad budget to advertising the ultimate plan. \n",
    "\n"
   ]
  }
 ],
 "metadata": {
  "ExecuteTimeLog": [
   {
    "duration": 1993,
    "start_time": "2022-02-22T16:15:45.421Z"
   },
   {
    "duration": 4917,
    "start_time": "2022-02-22T16:15:47.416Z"
   },
   {
    "duration": 8,
    "start_time": "2022-02-22T16:15:52.330Z"
   },
   {
    "duration": 6,
    "start_time": "2022-02-22T16:15:52.333Z"
   },
   {
    "duration": 5,
    "start_time": "2022-02-22T16:15:52.336Z"
   },
   {
    "duration": 4,
    "start_time": "2022-02-22T16:15:52.338Z"
   },
   {
    "duration": 4,
    "start_time": "2022-02-22T16:15:52.341Z"
   },
   {
    "duration": 3,
    "start_time": "2022-02-22T16:15:52.343Z"
   },
   {
    "duration": 3,
    "start_time": "2022-02-22T16:15:52.345Z"
   },
   {
    "duration": 2,
    "start_time": "2022-02-22T16:15:52.347Z"
   },
   {
    "duration": 1,
    "start_time": "2022-02-22T16:15:52.349Z"
   },
   {
    "duration": 0,
    "start_time": "2022-02-22T16:15:52.351Z"
   },
   {
    "duration": -8,
    "start_time": "2022-02-22T16:15:52.361Z"
   },
   {
    "duration": -9,
    "start_time": "2022-02-22T16:15:52.363Z"
   },
   {
    "duration": -10,
    "start_time": "2022-02-22T16:15:52.366Z"
   },
   {
    "duration": -10,
    "start_time": "2022-02-22T16:15:52.367Z"
   },
   {
    "duration": -11,
    "start_time": "2022-02-22T16:15:52.370Z"
   },
   {
    "duration": -13,
    "start_time": "2022-02-22T16:15:52.373Z"
   },
   {
    "duration": -13,
    "start_time": "2022-02-22T16:15:52.375Z"
   },
   {
    "duration": -53,
    "start_time": "2022-02-22T16:15:52.416Z"
   },
   {
    "duration": -54,
    "start_time": "2022-02-22T16:15:52.419Z"
   },
   {
    "duration": -56,
    "start_time": "2022-02-22T16:15:52.422Z"
   },
   {
    "duration": -56,
    "start_time": "2022-02-22T16:15:52.424Z"
   },
   {
    "duration": -57,
    "start_time": "2022-02-22T16:15:52.426Z"
   },
   {
    "duration": -57,
    "start_time": "2022-02-22T16:15:52.428Z"
   },
   {
    "duration": -58,
    "start_time": "2022-02-22T16:15:52.430Z"
   },
   {
    "duration": -59,
    "start_time": "2022-02-22T16:15:52.432Z"
   },
   {
    "duration": -8,
    "start_time": "2022-02-22T16:15:52.434Z"
   },
   {
    "duration": -9,
    "start_time": "2022-02-22T16:15:52.437Z"
   },
   {
    "duration": -10,
    "start_time": "2022-02-22T16:15:52.439Z"
   },
   {
    "duration": -10,
    "start_time": "2022-02-22T16:15:52.441Z"
   },
   {
    "duration": -11,
    "start_time": "2022-02-22T16:15:52.443Z"
   },
   {
    "duration": -12,
    "start_time": "2022-02-22T16:15:52.446Z"
   },
   {
    "duration": -23,
    "start_time": "2022-02-22T16:15:52.459Z"
   },
   {
    "duration": -24,
    "start_time": "2022-02-22T16:15:52.461Z"
   },
   {
    "duration": -25,
    "start_time": "2022-02-22T16:15:52.463Z"
   },
   {
    "duration": 590,
    "start_time": "2022-02-22T16:18:55.215Z"
   },
   {
    "duration": 283,
    "start_time": "2022-02-22T16:20:46.432Z"
   },
   {
    "duration": 54,
    "start_time": "2022-02-22T16:20:46.718Z"
   },
   {
    "duration": 82,
    "start_time": "2022-02-22T16:20:46.776Z"
   },
   {
    "duration": 5,
    "start_time": "2022-02-22T16:20:46.860Z"
   },
   {
    "duration": 15,
    "start_time": "2022-02-22T16:20:46.867Z"
   },
   {
    "duration": 230,
    "start_time": "2022-02-22T16:20:46.885Z"
   },
   {
    "duration": 37,
    "start_time": "2022-02-22T16:20:47.118Z"
   },
   {
    "duration": 40,
    "start_time": "2022-02-22T16:20:47.157Z"
   },
   {
    "duration": 127,
    "start_time": "2022-02-22T16:20:47.226Z"
   },
   {
    "duration": 26,
    "start_time": "2022-02-22T16:20:47.357Z"
   },
   {
    "duration": 61,
    "start_time": "2022-02-22T16:20:47.386Z"
   },
   {
    "duration": 53,
    "start_time": "2022-02-22T16:20:47.450Z"
   },
   {
    "duration": 74,
    "start_time": "2022-02-22T16:20:47.506Z"
   },
   {
    "duration": 46,
    "start_time": "2022-02-22T16:20:47.582Z"
   },
   {
    "duration": 60,
    "start_time": "2022-02-22T16:20:47.631Z"
   },
   {
    "duration": 8,
    "start_time": "2022-02-22T16:20:47.694Z"
   },
   {
    "duration": 35,
    "start_time": "2022-02-22T16:20:47.704Z"
   },
   {
    "duration": 112,
    "start_time": "2022-02-22T16:20:47.742Z"
   },
   {
    "duration": 7,
    "start_time": "2022-02-22T16:20:47.856Z"
   },
   {
    "duration": 157,
    "start_time": "2022-02-22T16:20:47.866Z"
   },
   {
    "duration": 39,
    "start_time": "2022-02-22T16:20:48.025Z"
   },
   {
    "duration": 15,
    "start_time": "2022-02-22T16:20:48.067Z"
   },
   {
    "duration": 637,
    "start_time": "2022-02-22T16:20:48.084Z"
   },
   {
    "duration": 602,
    "start_time": "2022-02-22T16:20:48.727Z"
   },
   {
    "duration": 627,
    "start_time": "2022-02-22T16:20:49.331Z"
   },
   {
    "duration": 765,
    "start_time": "2022-02-22T16:20:49.960Z"
   },
   {
    "duration": 588,
    "start_time": "2022-02-22T16:20:50.730Z"
   },
   {
    "duration": 611,
    "start_time": "2022-02-22T16:20:51.327Z"
   },
   {
    "duration": 12,
    "start_time": "2022-02-22T16:20:51.941Z"
   },
   {
    "duration": 10,
    "start_time": "2022-02-22T16:20:51.956Z"
   },
   {
    "duration": 12,
    "start_time": "2022-02-22T16:20:51.968Z"
   },
   {
    "duration": 48,
    "start_time": "2022-02-22T16:20:51.982Z"
   },
   {
    "duration": 7,
    "start_time": "2022-02-22T16:20:52.033Z"
   },
   {
    "duration": 9,
    "start_time": "2022-02-22T16:20:52.043Z"
   }
  ],
  "kernelspec": {
   "display_name": "Python 3 (ipykernel)",
   "language": "python",
   "name": "python3"
  },
  "language_info": {
   "codemirror_mode": {
    "name": "ipython",
    "version": 3
   },
   "file_extension": ".py",
   "mimetype": "text/x-python",
   "name": "python",
   "nbconvert_exporter": "python",
   "pygments_lexer": "ipython3",
   "version": "3.8.8"
  },
  "toc": {
   "base_numbering": 1,
   "nav_menu": {},
   "number_sections": true,
   "sideBar": true,
   "skip_h1_title": true,
   "title_cell": "Table of Contents",
   "title_sidebar": "Contents",
   "toc_cell": false,
   "toc_position": {
    "height": "832.222px",
    "left": "25px",
    "top": "385.49px",
    "width": "425.764px"
   },
   "toc_section_display": true,
   "toc_window_display": true
  }
 },
 "nbformat": 4,
 "nbformat_minor": 5
}
